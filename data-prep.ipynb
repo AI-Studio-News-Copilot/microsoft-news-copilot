{
 "cells": [
  {
   "cell_type": "code",
   "execution_count": 1,
   "metadata": {},
   "outputs": [
    {
     "data": {
      "text/html": [
       "<div>\n",
       "<style scoped>\n",
       "    .dataframe tbody tr th:only-of-type {\n",
       "        vertical-align: middle;\n",
       "    }\n",
       "\n",
       "    .dataframe tbody tr th {\n",
       "        vertical-align: top;\n",
       "    }\n",
       "\n",
       "    .dataframe thead th {\n",
       "        text-align: right;\n",
       "    }\n",
       "</style>\n",
       "<table border=\"1\" class=\"dataframe\">\n",
       "  <thead>\n",
       "    <tr style=\"text-align: right;\">\n",
       "      <th></th>\n",
       "      <th>category</th>\n",
       "      <th>filename</th>\n",
       "      <th>title</th>\n",
       "      <th>content</th>\n",
       "    </tr>\n",
       "  </thead>\n",
       "  <tbody>\n",
       "    <tr>\n",
       "      <th>0</th>\n",
       "      <td>business</td>\n",
       "      <td>001.txt</td>\n",
       "      <td>Ad sales boost Time Warner profit</td>\n",
       "      <td>Quarterly profits at US media giant TimeWarne...</td>\n",
       "    </tr>\n",
       "    <tr>\n",
       "      <th>1</th>\n",
       "      <td>business</td>\n",
       "      <td>002.txt</td>\n",
       "      <td>Dollar gains on Greenspan speech</td>\n",
       "      <td>The dollar has hit its highest level against ...</td>\n",
       "    </tr>\n",
       "    <tr>\n",
       "      <th>2</th>\n",
       "      <td>business</td>\n",
       "      <td>003.txt</td>\n",
       "      <td>Yukos unit buyer faces loan claim</td>\n",
       "      <td>The owners of embattled Russian oil giant Yuk...</td>\n",
       "    </tr>\n",
       "    <tr>\n",
       "      <th>3</th>\n",
       "      <td>business</td>\n",
       "      <td>004.txt</td>\n",
       "      <td>High fuel prices hit BA's profits</td>\n",
       "      <td>British Airways has blamed high fuel prices f...</td>\n",
       "    </tr>\n",
       "    <tr>\n",
       "      <th>4</th>\n",
       "      <td>business</td>\n",
       "      <td>005.txt</td>\n",
       "      <td>Pernod takeover talk lifts Domecq</td>\n",
       "      <td>Shares in UK drinks and food firm Allied Dome...</td>\n",
       "    </tr>\n",
       "  </tbody>\n",
       "</table>\n",
       "</div>"
      ],
      "text/plain": [
       "   category filename                              title  \\\n",
       "0  business  001.txt  Ad sales boost Time Warner profit   \n",
       "1  business  002.txt   Dollar gains on Greenspan speech   \n",
       "2  business  003.txt  Yukos unit buyer faces loan claim   \n",
       "3  business  004.txt  High fuel prices hit BA's profits   \n",
       "4  business  005.txt  Pernod takeover talk lifts Domecq   \n",
       "\n",
       "                                             content  \n",
       "0   Quarterly profits at US media giant TimeWarne...  \n",
       "1   The dollar has hit its highest level against ...  \n",
       "2   The owners of embattled Russian oil giant Yuk...  \n",
       "3   British Airways has blamed high fuel prices f...  \n",
       "4   Shares in UK drinks and food firm Allied Dome...  "
      ]
     },
     "execution_count": 1,
     "metadata": {},
     "output_type": "execute_result"
    }
   ],
   "source": [
    "import pandas as pd\n",
    "file_path = 'bbc-news-data.csv'\n",
    "df = pd.read_csv(file_path, delimiter='\\t')\n",
    "\n",
    "df.head()"
   ]
  },
  {
   "cell_type": "code",
   "execution_count": 3,
   "metadata": {},
   "outputs": [
    {
     "name": "stdout",
     "output_type": "stream",
     "text": [
      "Dataset size: (2225, 4)\n",
      "Index(['category', 'filename', 'title', 'content'], dtype='object')\n"
     ]
    }
   ],
   "source": [
    "print(f\"Dataset size: {df.shape}\")\n",
    "print(df.columns)"
   ]
  },
  {
   "cell_type": "code",
   "execution_count": 4,
   "metadata": {},
   "outputs": [
    {
     "name": "stdout",
     "output_type": "stream",
     "text": [
      "count      2225\n",
      "unique        5\n",
      "top       sport\n",
      "freq        511\n",
      "Name: category, dtype: object\n"
     ]
    }
   ],
   "source": [
    "print(df['category'].describe())"
   ]
  },
  {
   "cell_type": "code",
   "execution_count": 5,
   "metadata": {},
   "outputs": [
    {
     "name": "stdout",
     "output_type": "stream",
     "text": [
      "count                                 2225\n",
      "unique                                2096\n",
      "top       Microsoft seeking spyware trojan\n",
      "freq                                     2\n",
      "Name: title, dtype: object\n"
     ]
    }
   ],
   "source": [
    "print(df['title'].describe())"
   ]
  },
  {
   "cell_type": "code",
   "execution_count": 6,
   "metadata": {},
   "outputs": [
    {
     "name": "stdout",
     "output_type": "stream",
     "text": [
      "count                                                  2225\n",
      "unique                                                 2092\n",
      "top        Microsoft has warned PC users to update their...\n",
      "freq                                                      2\n",
      "Name: content, dtype: object\n"
     ]
    }
   ],
   "source": [
    "print(df['content'].describe())"
   ]
  },
  {
   "cell_type": "code",
   "execution_count": 7,
   "metadata": {},
   "outputs": [
    {
     "name": "stdout",
     "output_type": "stream",
     "text": [
      "sport            511\n",
      "business         510\n",
      "politics         417\n",
      "tech             401\n",
      "entertainment    386\n",
      "Name: category, dtype: int64\n"
     ]
    }
   ],
   "source": [
    "category_distribution = df['category'].value_counts()\n",
    "print(category_distribution)"
   ]
  },
  {
   "cell_type": "code",
   "execution_count": 8,
   "metadata": {},
   "outputs": [
    {
     "data": {
      "image/png": "iVBORw0KGgoAAAANSUhEUgAAAjsAAAIdCAYAAADbI7xwAAAAOXRFWHRTb2Z0d2FyZQBNYXRwbG90bGliIHZlcnNpb24zLjkuMiwgaHR0cHM6Ly9tYXRwbG90bGliLm9yZy8hTgPZAAAACXBIWXMAAA9hAAAPYQGoP6dpAABMQElEQVR4nO3de3zP9f//8ft7s802OzjtoGZzZo6hMj6R40IkKpWcKZrlEJXPp5Bj6ROdhk8S+nzIJyURIUOKocgph9CYD7aFthnZ5r3X7w+/vb+9G3LY9prX+3a9XN6Xi/fz+Xy/3o/X+73Wfc/X8/V62QzDMAQAAGBRbmYXAAAAUJgIOwAAwNIIOwAAwNIIOwAAwNIIOwAAwNIIOwAAwNIIOwAAwNIIOwAAwNIIOwAAwNIIOwBc2tGjR2Wz2TRv3jyzSwFQSAg7gAmOHDmiZ555RpUrV1bJkiXl7++vZs2a6e2339bvv/9+w9ubMWOGS/zPunPnzvLx8dG5c+euOqZHjx7y9PTUmTNnirCyW7Nz50499dRTCgsLk5eXl8qUKaM2bdpo7ty5stvtZpcnSZo8ebKWLl1qdhnATSHsAEVsxYoVqlu3rj755BN16tRJ7777rqZMmaKKFStq1KhRGjp06A1v01XCTo8ePfT777/r888/v2L/hQsX9MUXX+iBBx5Q2bJli7i6m/PBBx+ocePGWr9+vXr06KEZM2ZozJgx8vb2Vv/+/fX666+bXaIkwg5ubyXMLgBwJYmJiXr88ccVHh6udevWKTQ01NEXExOjw4cPa8WKFSZWWLjOnz8vX1/fm359586d5efnp4ULF6pXr175+r/44gudP39ePXr0uJUyi8yWLVs0aNAgRUVFaeXKlfLz83P0DRs2TD/88IP27t1rYoWARRgAisygQYMMScamTZuua/yHH35otGzZ0ihfvrzh6elp1KpVy5gxY4bTmPDwcEOS06NFixaO/t9++80YOnSoceeddxqenp5GlSpVjNdee82w2+1O2zl9+rTx1FNPGX5+fkZAQIDRq1cvY+fOnYYkY+7cuU5j4+Pjjb/97W+Gj4+PERAQYHTu3NnYt2+f05ixY8cakoyffvrJeOKJJ4zAwECjQYMGxocffmhIMnbs2JFvfydNmmS4ubkZ//vf/676mfTu3dsoUaKEkZKSkq/vwQcfNPz8/IwLFy4YZ86cMZ5//nmjTp06hq+vr+Hn52c88MADxs6dO51ek5iYmG8fW7Ro4fQZ/vG9w8PDndrsdrsxffp0IzIy0vDy8jKCgoKMp59+2jh79uxV9yHPAw88YJQoUcI4duzYX441DMPIzMw0RowY4fguq1evbrzxxhtGbm7uNfcnjyRj7Nixjud539GhQ4eM3r17GwEBAYa/v7/Rp08f4/z5806v+/Ojd+/ehmEYRkZGhjF06FAjPDzc8PT0NMqXL2+0adPG2L59+3XtE1AUmNkBitDy5ctVuXJlNW3a9LrGz5w5U7Vr11bnzp1VokQJLV++XM8++6xyc3MVExMjSXrrrbcUGxurUqVK6R//+IckKTg4WNLlwzotWrTQiRMn9Mwzz6hixYravHmzRo8erVOnTumtt96SJOXm5qpTp07atm2bBg8erJo1a+qLL75Q796989W0du1atW/fXpUrV9a4ceP0+++/691331WzZs20Y8cORUREOI1/9NFHVa1aNU2ePFmGYeiRRx5RTEyMFixYoLvuustp7IIFC3T//ffrjjvuuOpn0qNHD82fP1+ffPKJhgwZ4mg/e/asVq9erSeeeELe3t766aeftHTpUj366KOqVKmSUlJS9K9//UstWrTQvn37VKFChev6Dv7KM888o3nz5qlv37567rnnlJiYqPfee08//vijNm3aJA8Pjyu+7sKFC4qPj1fz5s1VsWLFv3wfwzDUuXNnrV+/Xv3791eDBg20evVqjRo1SidOnND06dNveh8ee+wxVapUSVOmTNGOHTv0wQcfKCgoyHEI7d///rcGDBige+65R08//bQkqUqVKpKkQYMG6dNPP9WQIUMUGRmpM2fO6LvvvtP+/fvVsGHDm64JKFBmpy3AVaSnpxuSjIceeui6X3PhwoV8bdHR0UblypWd2mrXrn3FmYgJEyYYvr6+xs8//+zU/tJLLxnu7u5GUlKSYRiG8dlnnxmSjLfeessxxm63G61atco3S9CgQQMjKCjIOHPmjKNt165dhpubm9GrVy9HW96swRNPPJGvrieeeMKoUKGC0+zSjh07rjoj8UeXLl0yQkNDjaioKKf2WbNmGZKM1atXG4ZhGBcvXsw3e5WYmGh4eXkZ48ePd2r78/te78zOt99+a0gyFixY4DRu1apVV2z/o127dhmSjKFDh15zf/MsXbrUkGRMnDjRqf2RRx4xbDabcfjw4avuTx5dZWanX79+TuMefvhho2zZsk5tvr6+jtmcPwoICDBiYmKuax8As7BAGSgiGRkZkuS0LuOveHt7O/6dnp6u06dPq0WLFvrll1+Unp7+l69fvHix7rvvPpUuXVqnT592PNq0aSO73a6NGzdKklatWiUPDw8NHDjQ8Vo3NzfH7FGeU6dOaefOnerTp4/KlCnjaK9Xr57atm2rlStX5qth0KBB+dp69eqlkydPav369Y62BQsWyNvbW926dbvmPrm7u+vxxx9XQkKCjh496mhfuHChgoOD1bp1a0mSl5eX3Nwu/4qz2+06c+aMSpUqpRo1amjHjh3XfI/rtXjxYgUEBKht27ZOn2+jRo1UqlQpp/37sxv9eVi5cqXc3d313HPPObU///zzMgxDX3311U3vx5+/o/vuu09nzpxx1HgtgYGB2rp1q06ePHnT7w8UNsIOUET8/f0l6ZqnTf/Zpk2b1KZNG/n6+iowMFDly5fX3//+d0m6rrBz6NAhrVq1SuXLl3d6tGnTRpKUmpoqSTp27JhCQ0Pl4+Pj9PqqVas6PT927JgkqUaNGvneq1atWjp9+rTOnz/v1F6pUqV8Y9u2bavQ0FAtWLBA0uXDaB9//LEeeuih6/qff94C5IULF0qS/ve//+nbb7/V448/Lnd3d8c2p0+frmrVqsnLy0vlypVT+fLltXv37uv67K7HoUOHlJ6erqCgoHyfcWZmpuPzvZIb/Xk4duyYKlSokO/zqVWrlqP/Zv35MFrp0qUlSb/99ttfvnbq1Knau3evwsLCdM8992jcuHH65ZdfbroWoDCwZgcoIv7+/qpQocJ1n11z5MgRtW7dWjVr1tS0adMUFhYmT09PrVy5UtOnT1dubu5fbiM3N1dt27bVCy+8cMX+6tWr39A+3Iw/zk7lcXd315NPPqnZs2drxowZ2rRpk06ePKmnnnrqurbZqFEj1axZUx9//LH+/ve/6+OPP5ZhGE5nYU2ePFmvvPKK+vXrpwkTJqhMmTJyc3PTsGHD/vKzs9lsMgwjX/ufr3mTm5uroKAgR2j7s/Lly1/1PapWraoSJUpoz54916zlRtlstiu2X+t6PXkB8c+u9Bn82WOPPab77rtPn3/+udasWaM33nhDr7/+upYsWaL27dtfX9FAISPsAEXowQcf1Pvvv6+EhARFRUVdc+zy5cuVlZWlZcuWOf3lfaVDI1f7H1yVKlWUmZnpmMm5mvDwcK1fv14XLlxwmt05fPhwvnGSdPDgwXzbOHDggMqVK3fdp5b36tVLb775ppYvX66vvvpK5cuXV3R09HW9Vro8u/PKK69o9+7dWrhwoapVq6a7777b0f/pp5+qZcuWmjNnjtPr0tLSVK5cuWtuu3Tp0lecnfjz7EmVKlW0du1aNWvW7Iqh7lp8fHzUqlUrrVu3TsePH1dYWNg1x4eHh2vt2rU6d+6c0+zOgQMHHP15tUuX9/Natd+oq/2MSVJoaKieffZZPfvss0pNTVXDhg01adIkwg6KDQ5jAUXohRdekK+vrwYMGKCUlJR8/UeOHNHbb78t6f/+2v7jX9fp6emaO3duvtf5+vrm+5+bdPmv7oSEBK1evTpfX1pami5duiRJio6OVk5OjmbPnu3oz83NVVxcnNNrQkND1aBBA82fP9/p/fbu3as1a9aoQ4cO19h7Z/Xq1VO9evX0wQcf6LPPPtPjjz+uEiWu/++vvFmcMWPGaOfOnfmurePu7p5vZmLx4sU6ceLEX267SpUqOnDggH799VdH265du7Rp0yancY899pjsdrsmTJiQbxuXLl264nfyR2PHjpVhGOrZs6cyMzPz9W/fvl3z58+XJHXo0EF2u13vvfee05jp06fLZrM5goW/v7/KlSvnWI+VZ8aMGdes5a9c6WfMbrfnOyQYFBSkChUqKCsr65beDyhIzOwARahKlSpauHChunfvrlq1aqlXr16qU6eOsrOztXnzZi1evFh9+vSRJLVr106enp7q1KmTnnnmGWVmZmr27NkKCgrSqVOnnLbbqFEjzZw5UxMnTlTVqlUVFBSkVq1aadSoUVq2bJkefPBB9enTR40aNdL58+e1Z88effrppzp69KjKlSunLl266J577tHzzz+vw4cPq2bNmlq2bJnOnj0ryfmv+jfeeEPt27dXVFSU+vfv7zj1PCAgQOPGjbuhz6NXr14aOXKkJF33Iaw8lSpVUtOmTfXFF19IUr6w8+CDD2r8+PHq27evmjZtqj179mjBggWqXLnyX267X79+mjZtmqKjo9W/f3+lpqZq1qxZql27ttOi3RYtWuiZZ57RlClTtHPnTrVr104eHh46dOiQFi9erLfffluPPPLIVd+nadOmiouL07PPPquaNWuqZ8+eqlatms6dO6cNGzZo2bJlmjhxoiSpU6dOatmypf7xj3/o6NGjql+/vtasWaMvvvhCw4YNc5wKLkkDBgzQa6+9pgEDBqhx48bauHGjfv755xv6fP+sUaNGWrt2raZNm6YKFSqoUqVKqlGjhu6880498sgjql+/vkqVKqW1a9fq+++/15tvvnlL7wcUKBPPBANc1s8//2wMHDjQiIiIMDw9PQ0/Pz+jWbNmxrvvvmtcvHjRMW7ZsmVGvXr1jJIlSxoRERHG66+/7rgoX2JiomNccnKy0bFjR8PPzy/fRQXPnTtnjB492qhatarh6elplCtXzmjatKnxz3/+08jOznaM+/XXX40nn3zScVHBPn36GJs2bTIkGYsWLXKqf+3atUazZs0Mb29vw9/f3+jUqdNVLyr466+/XvVzOHXqlOHu7m5Ur179pj7HuLg4Q5Jxzz335Ou7ePGi8fzzzxuhoaGGt7e30axZMyMhISHfaeVXO1X7P//5j1G5cmXD09PTaNCggbF69eorXlTQMAzj/fffNxo1amR4e3sbfn5+Rt26dY0XXnjBOHny5HXtx/bt240nn3zSqFChguHh4WGULl3aaN26tTF//nyn0+fPnTtnDB8+3DGuWrVq+S4qaBiXL1nQv39/IyAgwPDz8zMee+wxIzU19aqnnv/5O5o7d26+n7EDBw4YzZs3N7y9vR0XFczKyjJGjRpl1K9f3/Dz8zN8fX2N+vXr57vwJWA2m2Fcxwo0AC5p6dKlevjhh/Xdd9+pWbNmBb7906dPKzQ0VGPGjNErr7xS4NsHAIk1OwD+vz/fbd1ut+vdd9+Vv79/oV0Jd968ebLb7erZs2ehbB8AJNbsAPj/YmNj9fvvvysqKkpZWVlasmSJNm/erMmTJ9/wmUZ/Zd26ddq3b58mTZqkLl265LvFBAAUJA5jAZB0+QJ9b775pg4fPqyLFy+qatWqGjx4sNP9pwrK/fffr82bN6tZs2b6z3/+c817YQHArSLsAAAAS2PNDgAAsDTCDgAAsDQWKOvylWJPnjwpPz+/a14SHQAAFB+GYejcuXOqUKGC3NyuPn9D2JF08uTJv7wvDQAAKJ6OHz+uO++886r9hB3JcVO948ePy9/f3+RqAADA9cjIyFBYWJjTzXGvhLCj/7vvj7+/P2EHAIDbzF8tQWGBMgAAsDTCDgAAsDTCDgAAsDTCDgAAsDTCDgAAsDTCDgAAsDTCDgAAsDTCDgAAsDTCDgAAsDTCDgAAsDTCDgAAsDTCDgAAsDTCDgAAsDTCDgAAsDTCDgAAsLQSZhfgKiJeWmF2CQXi6GsdzS6hQFjh+7DKdwEAhY2ZHQAAYGmEHQAAYGmmhp1x48bJZrM5PWrWrOnov3jxomJiYlS2bFmVKlVK3bp1U0pKitM2kpKS1LFjR/n4+CgoKEijRo3SpUuXinpXAABAMWX6mp3atWtr7dq1juclSvxfScOHD9eKFSu0ePFiBQQEaMiQIeratas2bdokSbLb7erYsaNCQkK0efNmnTp1Sr169ZKHh4cmT55c5PsCAACKH9PDTokSJRQSEpKvPT09XXPmzNHChQvVqlUrSdLcuXNVq1YtbdmyRU2aNNGaNWu0b98+rV27VsHBwWrQoIEmTJigF198UePGjZOnp2dR7w4AAChmTF+zc+jQIVWoUEGVK1dWjx49lJSUJEnavn27cnJy1KZNG8fYmjVrqmLFikpISJAkJSQkqG7dugoODnaMiY6OVkZGhn766aervmdWVpYyMjKcHgAAwJpMDTv33nuv5s2bp1WrVmnmzJlKTEzUfffdp3Pnzik5OVmenp4KDAx0ek1wcLCSk5MlScnJyU5BJ68/r+9qpkyZooCAAMcjLCysYHcMAAAUG6Yexmrfvr3j3/Xq1dO9996r8PBwffLJJ/L29i609x09erRGjBjheJ6RkUHgAQDAokw/jPVHgYGBql69ug4fPqyQkBBlZ2crLS3NaUxKSopjjU9ISEi+s7Pynl9pHVAeLy8v+fv7Oz0AAIA1Fauwk5mZqSNHjig0NFSNGjWSh4eH4uPjHf0HDx5UUlKSoqKiJElRUVHas2ePUlNTHWO+/vpr+fv7KzIyssjrBwAAxY+ph7FGjhypTp06KTw8XCdPntTYsWPl7u6uJ554QgEBAerfv79GjBihMmXKyN/fX7GxsYqKilKTJk0kSe3atVNkZKR69uypqVOnKjk5WS+//LJiYmLk5eVl5q4BAIBiwtSw87///U9PPPGEzpw5o/Lly+tvf/ubtmzZovLly0uSpk+fLjc3N3Xr1k1ZWVmKjo7WjBkzHK93d3fXl19+qcGDBysqKkq+vr7q3bu3xo8fb9YuAQCAYsbUsLNo0aJr9pcsWVJxcXGKi4u76pjw8HCtXLmyoEsDAAAWUazW7AAAABQ0wg4AALA0wg4AALA0wg4AALA0wg4AALA0wg4AALA0wg4AALA0wg4AALA0wg4AALA0wg4AALA0wg4AALA0wg4AALA0wg4AALA0wg4AALA0wg4AALA0wg4AALA0wg4AALA0wg4AALA0wg4AALA0wg4AALA0wg4AALA0wg4AALA0wg4AALA0wg4AALA0wg4AALA0wg4AALA0wg4AALA0wg4AALA0wg4AALA0wg4AALA0wg4AALA0wg4AALA0wg4AALA0wg4AALA0wg4AALA0wg4AALA0wg4AALA0wg4AALA0wg4AALA0wg4AALA0wg4AALA0wg4AALA0wg4AALA0wg4AALA0wg4AALA0wg4AALA0wg4AALA0wg4AALA0wg4AALA0wg4AALC0EmYXAMC1Rby0wuwSbtnR1zqaXQKAa2BmBwAAWBphBwAAWBphBwAAWBphBwAAWBphBwAAWBphBwAAWBphBwAAWFqxCTuvvfaabDabhg0b5mi7ePGiYmJiVLZsWZUqVUrdunVTSkqK0+uSkpLUsWNH+fj4KCgoSKNGjdKlS5eKuHoAAFBcFYuw8/333+tf//qX6tWr59Q+fPhwLV++XIsXL9Y333yjkydPqmvXro5+u92ujh07Kjs7W5s3b9b8+fM1b948jRkzpqh3AQAAFFOmh53MzEz16NFDs2fPVunSpR3t6enpmjNnjqZNm6ZWrVqpUaNGmjt3rjZv3qwtW7ZIktasWaN9+/bpP//5jxo0aKD27dtrwoQJiouLU3Z2tlm7BAAAihHTbxcRExOjjh07qk2bNpo4caKjffv27crJyVGbNm0cbTVr1lTFihWVkJCgJk2aKCEhQXXr1lVwcLBjTHR0tAYPHqyffvpJd9111xXfMysrS1lZWY7nGRkZhbBnAHB7scKtOyRu34H8TA07ixYt0o4dO/T999/n60tOTpanp6cCAwOd2oODg5WcnOwY88egk9ef13c1U6ZM0auvvnqL1QMAgNuBaYexjh8/rqFDh2rBggUqWbJkkb736NGjlZ6e7ngcP368SN8fAAAUHdPCzvbt25WamqqGDRuqRIkSKlGihL755hu98847KlGihIKDg5Wdna20tDSn16WkpCgkJESSFBISku/srLzneWOuxMvLS/7+/k4PAABgTaaFndatW2vPnj3auXOn49G4cWP16NHD8W8PDw/Fx8c7XnPw4EElJSUpKipKkhQVFaU9e/YoNTXVMebrr7+Wv7+/IiMji3yfAABA8WPamh0/Pz/VqVPHqc3X11dly5Z1tPfv318jRoxQmTJl5O/vr9jYWEVFRalJkyaSpHbt2ikyMlI9e/bU1KlTlZycrJdfflkxMTHy8vIq8n0CAADFj+lnY13L9OnT5ebmpm7duikrK0vR0dGaMWOGo9/d3V1ffvmlBg8erKioKPn6+qp3794aP368iVUDAIDipFiFnQ0bNjg9L1mypOLi4hQXF3fV14SHh2vlypWFXBkAALhdmX5RQQAAgMJE2AEAAJZG2AEAAJZWrNbsAAAAbt1R0JjZAQAAlkbYAQAAlkbYAQAAlkbYAQAAlkbYAQAAlkbYAQAAlkbYAQAAlkbYAQAAlkbYAQAAlkbYAQAAlkbYAQAAlkbYAQAAlkbYAQAAlkbYAQAAlkbYAQAAlkbYAQAAlkbYAQAAlkbYAQAAlkbYAQAAlkbYAQAAlkbYAQAAlkbYAQAAlkbYAQAAlkbYAQAAlkbYAQAAlkbYAQAAlkbYAQAAlkbYAQAAlkbYAQAAlkbYAQAAlkbYAQAAlkbYAQAAlkbYAQAAlkbYAQAAlkbYAQAAlkbYAQAAlkbYAQAAlkbYAQAAlkbYAQAAlkbYAQAAlkbYAQAAlkbYAQAAlkbYAQAAlkbYAQAAlkbYAQAAlkbYAQAAlkbYAQAAlkbYAQAAlkbYAQAAlkbYAQAAlkbYAQAAlkbYAQAAlkbYAQAAlkbYAQAAlmZq2Jk5c6bq1asnf39/+fv7KyoqSl999ZWj/+LFi4qJiVHZsmVVqlQpdevWTSkpKU7bSEpKUseOHeXj46OgoCCNGjVKly5dKupdAQAAxZSpYefOO+/Ua6+9pu3bt+uHH35Qq1at9NBDD+mnn36SJA0fPlzLly/X4sWL9c033+jkyZPq2rWr4/V2u10dO3ZUdna2Nm/erPnz52vevHkaM2aMWbsEAACKmRJmvnmnTp2cnk+aNEkzZ87Uli1bdOedd2rOnDlauHChWrVqJUmaO3euatWqpS1btqhJkyZas2aN9u3bp7Vr1yo4OFgNGjTQhAkT9OKLL2rcuHHy9PQ0Y7cAAEAxUmzW7Njtdi1atEjnz59XVFSUtm/frpycHLVp08YxpmbNmqpYsaISEhIkSQkJCapbt66Cg4MdY6Kjo5WRkeGYHbqSrKwsZWRkOD0AAIA1mR529uzZo1KlSsnLy0uDBg3S559/rsjISCUnJ8vT01OBgYFO44ODg5WcnCxJSk5Odgo6ef15fVczZcoUBQQEOB5hYWEFu1MAAKDYMD3s1KhRQzt37tTWrVs1ePBg9e7dW/v27SvU9xw9erTS09Mdj+PHjxfq+wEAAPOYumZHkjw9PVW1alVJUqNGjfT999/r7bffVvfu3ZWdna20tDSn2Z2UlBSFhIRIkkJCQrRt2zan7eWdrZU35kq8vLzk5eVVwHsCAACKI9Nndv4sNzdXWVlZatSokTw8PBQfH+/oO3jwoJKSkhQVFSVJioqK0p49e5SamuoY8/XXX8vf31+RkZFFXjsAACh+bmpmp3Llyvr+++9VtmxZp/a0tDQ1bNhQv/zyy3VtZ/To0Wrfvr0qVqyoc+fOaeHChdqwYYNWr16tgIAA9e/fXyNGjFCZMmXk7++v2NhYRUVFqUmTJpKkdu3aKTIyUj179tTUqVOVnJysl19+WTExMczcAAAASTcZdo4ePSq73Z6vPSsrSydOnLju7aSmpqpXr146deqUAgICVK9ePa1evVpt27aVJE2fPl1ubm7q1q2bsrKyFB0drRkzZjhe7+7uri+//FKDBw9WVFSUfH191bt3b40fP/5mdgsAAFjQDYWdZcuWOf6dN/uSx263Kz4+XhEREde9vTlz5lyzv2TJkoqLi1NcXNxVx4SHh2vlypXX/Z4AAMC13FDY6dKliyTJZrOpd+/eTn0eHh6KiIjQm2++WWDFAQAA3KobCju5ubmSpEqVKun7779XuXLlCqUoAACAgnJTa3YSExMLug4AAIBCcdPX2YmPj1d8fLxSU1MdMz55Pvzww1suDAAAoCDcVNh59dVXNX78eDVu3FihoaGy2WwFXRcAAECBuKmwM2vWLM2bN089e/Ys6HoAAAAK1E1dQTk7O1tNmzYt6FoAAAAK3E2FnQEDBmjhwoUFXQsAAECBu6nDWBcvXtT777+vtWvXql69evLw8HDqnzZtWoEUBwAAcKtuKuzs3r1bDRo0kCTt3bvXqY/FygAAoDi5qbCzfv36gq4DAACgUNzUmh0AAIDbxU3N7LRs2fKah6vWrVt30wUBAAAUpJsKO3nrdfLk5ORo586d2rt3b74bhAIAAJjppsLO9OnTr9g+btw4ZWZm3lJBAAAABalA1+w89dRT3BcLAAAUKwUadhISElSyZMmC3CQAAMAtuanDWF27dnV6bhiGTp06pR9++EGvvPJKgRQGAABQEG4q7AQEBDg9d3NzU40aNTR+/Hi1a9euQAoDAAAoCDcVdubOnVvQdQAAABSKmwo7ebZv3679+/dLkmrXrq277rqrQIoCAAAoKDcVdlJTU/X4449rw4YNCgwMlCSlpaWpZcuWWrRokcqXL1+QNQIAANy0mzobKzY2VufOndNPP/2ks2fP6uzZs9q7d68yMjL03HPPFXSNAAAAN+2mZnZWrVqltWvXqlatWo62yMhIxcXFsUAZAAAUKzc1s5ObmysPD4987R4eHsrNzb3logAAAArKTYWdVq1aaejQoTp58qSj7cSJExo+fLhat25dYMUBAADcqpsKO++9954yMjIUERGhKlWqqEqVKqpUqZIyMjL07rvvFnSNAAAAN+2m1uyEhYVpx44dWrt2rQ4cOCBJqlWrltq0aVOgxQEAANyqG5rZWbdunSIjI5WRkSGbzaa2bdsqNjZWsbGxuvvuu1W7dm19++23hVUrAADADbuhsPPWW29p4MCB8vf3z9cXEBCgZ555RtOmTSuw4gAAAG7VDYWdXbt26YEHHrhqf7t27bR9+/ZbLgoAAKCg3FDYSUlJueIp53lKlCihX3/99ZaLAgAAKCg3FHbuuOMO7d2796r9u3fvVmho6C0XBQAAUFBuKOx06NBBr7zyii5evJiv7/fff9fYsWP14IMPFlhxAAAAt+qGTj1/+eWXtWTJElWvXl1DhgxRjRo1JEkHDhxQXFyc7Ha7/vGPfxRKoQAAADfjhsJOcHCwNm/erMGDB2v06NEyDEOSZLPZFB0drbi4OAUHBxdKoQAAADfjhi8qGB4erpUrV+q3337T4cOHZRiGqlWrptKlSxdGfQAAALfkpq6gLEmlS5fW3XffXZC1AAAAFLibujcWAADA7YKwAwAALI2wAwAALI2wAwAALI2wAwAALI2wAwAALI2wAwAALI2wAwAALI2wAwAALI2wAwAALI2wAwAALI2wAwAALI2wAwAALI2wAwAALI2wAwAALI2wAwAALI2wAwAALI2wAwAALI2wAwAALI2wAwAALM3UsDNlyhTdfffd8vPzU1BQkLp06aKDBw86jbl48aJiYmJUtmxZlSpVSt26dVNKSorTmKSkJHXs2FE+Pj4KCgrSqFGjdOnSpaLcFQAAUEyZGna++eYbxcTEaMuWLfr666+Vk5Ojdu3a6fz5844xw4cP1/Lly7V48WJ98803OnnypLp27erot9vt6tixo7Kzs7V582bNnz9f8+bN05gxY8zYJQAAUMyUMPPNV61a5fR83rx5CgoK0vbt29W8eXOlp6drzpw5WrhwoVq1aiVJmjt3rmrVqqUtW7aoSZMmWrNmjfbt26e1a9cqODhYDRo00IQJE/Tiiy9q3Lhx8vT0NGPXAABAMVGs1uykp6dLksqUKSNJ2r59u3JyctSmTRvHmJo1a6pixYpKSEiQJCUkJKhu3boKDg52jImOjlZGRoZ++umnK75PVlaWMjIynB4AAMCaik3Yyc3N1bBhw9SsWTPVqVNHkpScnCxPT08FBgY6jQ0ODlZycrJjzB+DTl5/Xt+VTJkyRQEBAY5HWFhYAe8NAAAoLopN2ImJidHevXu1aNGiQn+v0aNHKz093fE4fvx4ob8nAAAwh6lrdvIMGTJEX375pTZu3Kg777zT0R4SEqLs7GylpaU5ze6kpKQoJCTEMWbbtm1O28s7WytvzJ95eXnJy8urgPcCAAAUR6bO7BiGoSFDhujzzz/XunXrVKlSJaf+Ro0aycPDQ/Hx8Y62gwcPKikpSVFRUZKkqKgo7dmzR6mpqY4xX3/9tfz9/RUZGVk0OwIAAIotU2d2YmJitHDhQn3xxRfy8/NzrLEJCAiQt7e3AgIC1L9/f40YMUJlypSRv7+/YmNjFRUVpSZNmkiS2rVrp8jISPXs2VNTp05VcnKyXn75ZcXExDB7AwAAzA07M2fOlCTdf//9Tu1z585Vnz59JEnTp0+Xm5ubunXrpqysLEVHR2vGjBmOse7u7vryyy81ePBgRUVFydfXV71799b48eOLajcAAEAxZmrYMQzjL8eULFlScXFxiouLu+qY8PBwrVy5siBLAwAAFlFszsYCAAAoDIQdAABgaYQdAABgaYQdAABgaYQdAABgaYQdAABgaYQdAABgaYQdAABgaYQdAABgaYQdAABgaYQdAABgaYQdAABgaYQdAABgaYQdAABgaYQdAABgaYQdAABgaYQdAABgaYQdAABgaYQdAABgaYQdAABgaYQdAABgaYQdAABgaYQdAABgaYQdAABgaYQdAABgaYQdAABgaYQdAABgaYQdAABgaYQdAABgaYQdAABgaYQdAABgaYQdAABgaYQdAABgaYQdAABgaYQdAABgaYQdAABgaYQdAABgaYQdAABgaYQdAABgaYQdAABgaYQdAABgaYQdAABgaYQdAABgaYQdAABgaYQdAABgaYQdAABgaYQdAABgaYQdAABgaYQdAABgaYQdAABgaYQdAABgaYQdAABgaYQdAABgaYQdAABgaYQdAABgaYQdAABgaYQdAABgaYQdAABgaaaGnY0bN6pTp06qUKGCbDabli5d6tRvGIbGjBmj0NBQeXt7q02bNjp06JDTmLNnz6pHjx7y9/dXYGCg+vfvr8zMzCLcCwAAUJyZGnbOnz+v+vXrKy4u7or9U6dO1TvvvKNZs2Zp69at8vX1VXR0tC5evOgY06NHD/3000/6+uuv9eWXX2rjxo16+umni2oXAABAMVfCzDdv37692rdvf8U+wzD01ltv6eWXX9ZDDz0kSfroo48UHByspUuX6vHHH9f+/fu1atUqff/992rcuLEk6d1331WHDh30z3/+UxUqVCiyfQEAAMVTsV2zk5iYqOTkZLVp08bRFhAQoHvvvVcJCQmSpISEBAUGBjqCjiS1adNGbm5u2rp161W3nZWVpYyMDKcHAACwpmIbdpKTkyVJwcHBTu3BwcGOvuTkZAUFBTn1lyhRQmXKlHGMuZIpU6YoICDA8QgLCyvg6gEAQHFRbMNOYRo9erTS09Mdj+PHj5tdEgAAKCTFNuyEhIRIklJSUpzaU1JSHH0hISFKTU116r906ZLOnj3rGHMlXl5e8vf3d3oAAABrKrZhp1KlSgoJCVF8fLyjLSMjQ1u3blVUVJQkKSoqSmlpadq+fbtjzLp165Sbm6t77723yGsGAADFj6lnY2VmZurw4cOO54mJidq5c6fKlCmjihUratiwYZo4caKqVaumSpUq6ZVXXlGFChXUpUsXSVKtWrX0wAMPaODAgZo1a5ZycnI0ZMgQPf7445yJBQAAJJkcdn744Qe1bNnS8XzEiBGSpN69e2vevHl64YUXdP78eT399NNKS0vT3/72N61atUolS5Z0vGbBggUaMmSIWrduLTc3N3Xr1k3vvPNOke8LAAAonkwNO/fff78Mw7hqv81m0/jx4zV+/PirjilTpowWLlxYGOUBAAALKLZrdgAAAAoCYQcAAFgaYQcAAFgaYQcAAFgaYQcAAFgaYQcAAFgaYQcAAFgaYQcAAFgaYQcAAFgaYQcAAFgaYQcAAFgaYQcAAFgaYQcAAFgaYQcAAFgaYQcAAFgaYQcAAFgaYQcAAFgaYQcAAFgaYQcAAFgaYQcAAFgaYQcAAFgaYQcAAFgaYQcAAFgaYQcAAFgaYQcAAFgaYQcAAFgaYQcAAFgaYQcAAFgaYQcAAFgaYQcAAFgaYQcAAFgaYQcAAFgaYQcAAFgaYQcAAFgaYQcAAFgaYQcAAFgaYQcAAFgaYQcAAFgaYQcAAFgaYQcAAFgaYQcAAFgaYQcAAFgaYQcAAFgaYQcAAFgaYQcAAFgaYQcAAFgaYQcAAFgaYQcAAFgaYQcAAFgaYQcAAFgaYQcAAFgaYQcAAFgaYQcAAFgaYQcAAFgaYQcAAFgaYQcAAFgaYQcAAFiaZcJOXFycIiIiVLJkSd17773atm2b2SUBAIBiwBJh57///a9GjBihsWPHaseOHapfv76io6OVmppqdmkAAMBklgg706ZN08CBA9W3b19FRkZq1qxZ8vHx0Ycffmh2aQAAwGS3fdjJzs7W9u3b1aZNG0ebm5ub2rRpo4SEBBMrAwAAxUEJswu4VadPn5bdbldwcLBTe3BwsA4cOHDF12RlZSkrK8vxPD09XZKUkZFRaHXmZl0otG0XpcL8jIqSFb4Pvovig++ieLHC98F3cWPbNwzjmuNu+7BzM6ZMmaJXX301X3tYWJgJ1dxeAt4yuwLk4bsoPvguihe+j+KjqL6Lc+fOKSAg4Kr9t33YKVeunNzd3ZWSkuLUnpKSopCQkCu+ZvTo0RoxYoTjeW5urs6ePauyZcvKZrMVar2FJSMjQ2FhYTp+/Lj8/f3NLsel8V0UL3wfxQffRfFhle/CMAydO3dOFSpUuOa42z7seHp6qlGjRoqPj1eXLl0kXQ4v8fHxGjJkyBVf4+XlJS8vL6e2wMDAQq60aPj7+9/WP7hWwndRvPB9FB98F8WHFb6La83o5Lntw44kjRgxQr1791bjxo11zz336K233tL58+fVt29fs0sDAAAms0TY6d69u3799VeNGTNGycnJatCggVatWpVv0TIAAHA9lgg7kjRkyJCrHrZyBV5eXho7dmy+w3MoenwXxQvfR/HBd1F8uNp3YTP+6nwtAACA29htf1FBAACAayHsAAAASyPsAAAASyPsAAAASyPs3MY++ugjp3t85cnOztZHH31kQkUAABQ/nI11G3N3d9epU6cUFBTk1H7mzBkFBQXJbrebVBkAXJabm6vDhw8rNTVVubm5Tn3Nmzc3qSrX1K9fP7399tvy8/Nzaj9//rxiY2P14YcfmlRZ4SPs3Mbc3NyUkpKi8uXLO7Xv2rVLLVu21NmzZ02qzDX9/vvvMgxDPj4+kqRjx47p888/V2RkpNq1a2dyda7l+PHjstlsuvPOOyVJ27Zt08KFCxUZGamnn37a5Opcx5YtW/Tkk0/q2LFj+e5KbbPZ+IOsiF3tD+TTp08rJCREly5dMqmywmeZiwq6krvuuks2m002m02tW7dWiRL/9zXa7XYlJibqgQceMLFC1/TQQw+pa9euGjRokNLS0nTvvffKw8NDp0+f1rRp0zR48GCzS3QZTz75pJ5++mn17NlTycnJatu2rWrXrq0FCxYoOTlZY8aMMbtElzBo0CA1btxYK1asUGho6G17o+XbXUZGhgzDcNw0s2TJko4+u92ulStX5gtAVkPYuQ3l3fB0586dio6OVqlSpRx9np6eioiIULdu3UyqznXt2LFD06dPlyR9+umnCg4O1o8//qjPPvtMY8aMIewUob179+qee+6RJH3yySeqU6eONm3apDVr1mjQoEGEnSJy6NAhffrpp6patarZpbi0wMBAxx/I1atXz9dvs9n06quvmlBZ0SHs3IbGjh0ru92uiIgItWvXTqGhoWaXBEkXLlxwHAtfs2aNunbtKjc3NzVp0kTHjh0zuTrXkpOT47gM/tq1a9W5c2dJUs2aNXXq1CkzS3Mp9957rw4fPkzYMdn69etlGIZatWqlzz77TGXKlHH0eXp6Kjw8XBUqVDCxwsJH2LlNubu765lnntH+/fvNLgX/X9WqVbV06VI9/PDDWr16tYYPHy5JSk1Nlb+/v8nVuZbatWtr1qxZ6tixo77++mtNmDBBknTy5EmVLVvW5Oqsbffu3Y5/x8bG6vnnn1dycrLq1q0rDw8Pp7H16tUr6vJcUosWLSRJiYmJCgsLk5ub652IzQLl21jjxo31+uuvq3Xr1maXAl0+dPXkk0/KbrerdevWWrNmjSRpypQp2rhxo7766iuTK3QdGzZs0MMPP6yMjAz17t3bcZbJ3//+dx04cEBLliwxuULrcnNzk81my7cgOU9eHwuUzZGWlqZt27Zd8ey4Xr16mVRV4SPs3MZWrVql0aNHa8KECWrUqJF8fX2d+plNKHrJyck6deqU6tev7/jradu2bfL391fNmjVNrs612O12ZWRkqHTp0o62o0ePysfHx/KLMc10I4dsw8PDC7ES/Nny5cvVo0cPZWZmyt/f32nBuM1ms/QZvISd29gfpyL/+EPLX03FQ0ZGhtatW6caNWqoVq1aZpfjUhITE3Xp0iVVq1bNqf3QoUPy8PBQRESEOYUBJqpevbo6dOigyZMnOy6R4SpYs3MbW79+vdkl4A8ee+wxNW/eXEOGDNHvv/+uxo0b6+jRozIMQ4sWLeIMuSLUp08f9evXL1/Y2bp1qz744ANt2LDBnMJczJQpUxQcHKx+/fo5tX/44Yf69ddf9eKLL5pUmWs6ceKEnnvuOZcLOhIzO0CBCQkJ0erVq1W/fn0tXLhQY8eO1a5duzR//ny9//77+vHHH80u0WX4+/trx44d+c4COnz4sBo3bqy0tDRzCnMxERERWrhwoZo2berUvnXrVj3++ONKTEw0qTLX1LVrVz3++ON67LHHzC6lyDGzc5tLS0vTnDlzHGdl1a5dW/369VNAQIDJlbme9PR0xymdq1atUrdu3eTj46OOHTtq1KhRJlfnWmw2m86dO5evPT09ncO7RSg5OfmKl8YoX748lwAwQd7von379l3x7Li8SzRYEWHnNvbDDz8oOjpa3t7ejguoTZs2TZMmTdKaNWvUsGFDkyt0LWFhYUpISFCZMmW0atUqLVq0SJL022+/OV2xFIWvefPmmjJlij7++GO5u7tLurxgecqUKfrb3/5mcnWuIywsTJs2bVKlSpWc2jdt2mT567oURwMHDpQkjR8/Pl+f1dd5EnZuY8OHD1fnzp01e/Zsxy0jLl26pAEDBmjYsGHauHGjyRW6lmHDhqlHjx4qVaqUKlasqPvvv1+StHHjRtWtW9fc4lzM66+/rubNm6tGjRq67777JEnffvutY9E4isbAgQM1bNgw5eTkqFWrVpKk+Ph4vfDCC3r++edNrs71/PlUc1fCmp3bmLe3t3788cd8pzTv27dPjRs31oULF0yqzHX98MMPOn78uNq2beu4jceKFSsUGBioZs2amVydazl58qTee+897dq1S97e3qpXr56GDBnidPVYFC7DMPTSSy/pnXfeUXZ2tiSpZMmSevHFF7llh8kuXrzoUjPOhJ3bWHBwsP7973/nu6P26tWr1atXL6WkpJhUmWvLzs5WYmKiqlSp4nSTVsBVZWZmav/+/fL29la1atUct/JA0bLb7Zo8ebJmzZqllJQU/fzzz6pcubJeeeUVRUREqH///maXWGhc75rRFtK9e3f1799f//3vf3X8+HEdP35cixYt0oABA/TEE0+YXZ7LuXDhgvr37y8fHx/Vrl1bSUlJki5fMv+1114zuTrr2717t2Oafvfu3dd8oGglJyfr7NmzqlKliry8vK56dWUUrkmTJmnevHmaOnWqPD09He116tTRBx98YGJlRcDAbSsrK8t47rnnDE9PT8PNzc1wc3MzvLy8jGHDhhkXL140uzyX89xzzxmNGjUyvv32W8PX19c4cuSIYRiGsXTpUqNBgwYmV2d9NpvNSElJcfzbzc3NsNls+R5ubm4mV+o6Tp8+bbRq1crxuef9N9G3b19jxIgRJlfneqpUqWKsXbvWMAzDKFWqlOP72L9/vxEYGGhmaYWOOfbbmKenp95++21NmTJFR44ckSRVqVLFJS8YVRwsXbpU//3vf9WkSROnK1rXrl3b8f2g8CQmJqp8+fKOf8N8w4cPl4eHh5KSkpyuIt69e3eNGDFCb775ponVuZ4TJ05c8Q70ubm5ysnJMaGiokPYsQAfHx8FBgY6/g1z/Prrr1e859L58+edwg8Kxx/vs3Ts2DE1bdo035qpS5cuafPmzdyTqYisWbNGq1ev1p133unUXq1atRu6hxYKRmRkpL799tt8P/+ffvqp7rrrLpOqKhqs2bmNXbp0Sa+88ooCAgIUERGhiIgIBQQE6OWXX7Z8Si+OGjdurBUrVjie5wWcDz74QFFRUWaV5ZJatmx5xZsapqenq2XLliZU5JrOnz9/xT/Azp49yyJlE4wZM0ZDhgzR66+/rtzcXC1ZskQDBw7UpEmTLH92HDM7t7HY2FgtWbJEU6dOdfzPNCEhQePGjdOZM2c0c+ZMkyt0LZMnT1b79u21b98+Xbp0SW+//bb27dunzZs365tvvjG7PJdi/P+b4f7ZmTNn5Ovra0JFrum+++7TRx99pAkTJki6/AdAbm6upk6dSug0wUMPPaTly5dr/Pjx8vX11ZgxY9SwYUMtX75cbdu2Nbu8QsWp57exgIAALVq0SO3bt3dqX7lypZ544gmlp6ebVJnrOnLkiF577TXt2rVLmZmZatiwoV588UUuKlhEunbtKkn64osv9MADDzjNHtjtdu3evVs1atTQqlWrzCrRpezdu1etW7dWw4YNtW7dOnXu3Fk//fSTzp49q02bNqlKlSpmlwgXwczObczLy0sRERH52itVquR0WiGKTpUqVTR79myzy3BZefeEMwxDfn5+8vb2dvR5enqqSZMmjkvmo/D5+/tr//79mjlzpvz8/JSZmamuXbsqJiaGQ+0my8zMzHdFZX9/f5OqKXzM7NzGxo8frwMHDmju3LmOv2CzsrLUv39/VatWTWPHjjW5QteTm5urw4cPKzU1Nd8vkubNm5tUlet59dVXNXLkSA5Zmczd3V2nTp3Kt3D/zJkzCgoKsvS9mIqjxMREDRkyRBs2bNDFixcd7XmHfa38fRB2bmMPP/yw4uPj5eXlpfr160uSdu3apezsbLVu3dpp7JIlS8wo0aVs2bJFTz75pI4dO5bvomlW/0UCXImbm5uSk5PzhZ1jx44pMjJS58+fN6ky19SsWTMZhqGhQ4cqODg437q2Fi1amFRZ4eMw1m0sMDBQ3bp1c2oLCwszqRoMGjTIcUZWaGgop5sXsYYNGyo+Pl6lS5fWXXfddc3Pf8eOHUVYmesZMWKEpMshf8yYMU5nZNntdm3dulUNGjQwqTrXtWvXLm3fvl01atQwu5QiR9i5jc2YMUO5ubmOqfqjR49q6dKlqlWrlqKjo02uzvUcOnRIn3766RUv2oXC99BDDzkO53bp0sXcYlzcjz/+KOny4ZE9e/Y4rSH09PRU/fr1NXLkSLPKc1l33323jh8/7pJhh8NYt7F27dqpa9euGjRokNLS0lSzZk15eHjo9OnTmjZtmgYPHmx2iS6lVatWeuGFF/TAAw+YXQpQLPTt21dvv/22pRe+3k6OHDmiQYMG6amnnlKdOnXk4eHh1F+vXj2TKit8zOzcxnbs2KHp06dLunwFzODgYP3444/67LPPNGbMGMJOEYuNjdXzzz+v5ORk1a1b16V+kQBXMnfuXLNLwB/8+uuvOnLkiPr27etos9lsLFBG8ebj46MDBw6oYsWKeuyxx1S7dm2NHTvWMU154cIFs0t0KW5u+S9I7iq/SIqD0qVLX/c6qStdXRmwusjISNWqVUsvvPDCFRcoW/k2Kszs3MaqVq2qpUuX6uGHH9bq1as1fPhwSVJqairTxibg5pPmeuutt8wuASjWjh07pmXLlrnkukJmdm5jn376qZ588knZ7Xa1bt1aa9askSRNmTJFGzdu1FdffWVyhQCA4qJTp07q06dPvrN4XQFh5zaXnJysU6dOqX79+o7DKNu2bZO/v79q1qxpcnXWt2zZMrVv314eHh5atmzZNcd27ty5iKqCdPkU56VLl2r//v2SpNq1a6tz585yd3c3uTLAHO+//74mTpyofv36XXFdoZV/RxF2gFvwx4umXWnNTh7W7BStw4cPq0OHDjpx4oTjNNuDBw8qLCxMK1as4J5McEmu/DuKsAPAcjp06CDDMLRgwQKVKVNG0uVbFDz11FNyc3PTihUrTK4QQFEi7ACFKC0tTYGBgWaX4XJ8fX21ZcuWfHeb37Vrl5o1a6bMzEyTKgNgBs7GAgrI66+/roiICHXv3l2S9Oijj+qzzz5TaGioVq5c6bh/GQqfl5eXzp07l689MzPT6Wq+gKuJj49XfHz8FW9W/OGHH5pUVeG7+gE8ADdk1qxZjnuTff3111q7dq1WrVql9u3ba9SoUSZX51oefPBBPf3009q6dasMw5BhGNqyZYsGDRpk6UWYwLW8+uqrateuneLj43X69Gn99ttvTg8r4zAWUEC8vb31888/KywsTEOHDtXFixf1r3/9Sz///LPuvfdey/8yKU7S0tLUu3dvLV++3HHGSU5Ojh566CHNmzdPAQEBJlcIFL3Q0FBNnTpVPXv2NLuUIsdhLKCAlC5dWsePH1dYWJhWrVqliRMnSrp8M0Qrn+VQHAUGBuqLL77Q4cOHtW/fPkmXrx7rihdTA/JkZ2eradOmZpdhCg5jAQWka9euevLJJ9W2bVudOXNG7du3l3T5DtD8T7bozZkzR126dNGjjz6qRx99VF26dNEHH3xgdlmAaQYMGKCFCxeaXYYpmNkBCsj06dMVERGh48ePa+rUqSpVqpQk6dSpU3r22WdNrs61jBkzRtOmTVNsbKyioqIkSQkJCRo+fLiSkpI0fvx4kysEit7Fixf1/vvva+3atapXr16+iwpOmzbNpMoKH2t2AFhO+fLl9c477+iJJ55wav/4448VGxur06dPm1QZYJ6WLVtetc9ms2ndunVFWE3RYmYHKCAfffTRNft79epVRJUgJydHjRs3ztfeqFEjXbp0yYSKAPOtX7/e7BJMw8wOUEBKly7t9DwnJ0cXLlyQp6enfHx8dPbsWZMqcz2xsbHy8PDINy0/cuRI/f7774qLizOpMgBmYGYHKCBXOrX80KFDGjx4MNfZMcGcOXO0Zs0aNWnSRJK0detWJSUlqVevXhoxYoRjnJXXKQBdu3bVvHnz5O/vr65du15z7JIlS4qoqqJH2AEKUbVq1fTaa6/pqaee0oEDB8wux2Xs3btXDRs2lCQdOXJEklSuXDmVK1dOe/fudYyz2Wym1AcUlYCAAMfPuStfX4rDWEAh27lzp5o3b66MjAyzSwEAl8TMDlBAli1b5vTcMAydOnVK7733npo1a2ZSVQAAZnaAAuLm5nyNTpvNpvLly6tVq1Z68803FRoaalJlAHDZp59+qk8++URJSUnKzs526tuxY4dJVRU+rqAMFJDc3FzH49KlS8rJyVFycrIWLlxI0AFgunfeeUd9+/ZVcHCwfvzxR91zzz0qW7asfvnlF8cV362KsAMUoDlz5qhOnTry9vaWt7e36tSpwy0KABQLM2bM0Pvvv693331Xnp6eeuGFF/T111/rueeeU3p6utnlFSrCDlBAxowZo6FDh6pTp05avHixFi9erE6dOmn48OEaM2aM2eUBcHFJSUmOG4F6e3vr3LlzkqSePXvq448/NrO0QscCZaCAzJw5U7Nnz3a6RUHnzp1Vr149xcbGcj8mAKYKCQnR2bNnFR4erooVK2rLli2qX7++EhMTZfXlu8zsAAWEWxQAKM5atWrlOGu0b9++Gj58uNq2bavu3bvr4YcfNrm6wsXZWEAB4RYFAIqzvBMoSpS4fFBn0aJF2rx5s6pVq6ZnnnlGnp6eJldYeAg7wC34420HLl26pHnz5qlixYpXvEXBu+++a1aZAKCkpCSFhYXlu3K4YRg6fvy4KlasaFJlhY+wA9yCli1bXtc4m82mdevWFXI1AHB17u7uOnXqlIKCgpzaz5w5o6CgINntdpMqK3wsUAZuwfr1680uAQCui2EYV7wfXGZmpkqWLGlCRUWHsAMAgIXlHW632Wx65ZVX5OPj4+iz2+3aunWrGjRoYFJ1RYOwAwCAhf3444+SLs/s7Nmzx2khsqenp+rXr6+RI0eaVV6RYM0OAAAuoG/fvnrnnXfk5+dndilFjrADAIDF5eTkyNvbWzt37lSdOnXMLqfIcVFBAAAszsPDQxUrVrT0GVfXQtgBAMAF/OMf/9Df//53nT171uxSihyHsQAAcAF33XWXDh8+rJycHIWHh8vX19epf8eOHSZVVvg4GwsAABfQpUsXs0swDTM7AADA0lizAwCAi0hLS9MHH3yg0aNHO9bu7NixQydOnDC5ssLFzA4AAC5g9+7datOmjQICAnT06FEdPHhQlStX1ssvv6ykpCR99NFHZpdYaJjZAQDABYwYMUJ9+vTRoUOHnO6F1aFDB23cuNHEygofYQcAABfw/fff65lnnsnXfscddyg5OdmEiooOYQcAABfg5eWljIyMfO0///yzypcvb0JFRYewAwCAC+jcubPGjx+vnJwcSZfvgp6UlKQXX3xR3bp1M7m6wsUCZQAAXEB6eroeeeQR/fDDDzp37pwqVKig5ORkRUVFaeXKlfkuMmglhB0AAFzIpk2btGvXLmVmZqphw4Zq06aN2SUVOsIOAAAu4KOPPlL37t3l5eXl1J6dna1FixapV69eJlVW+Ag7AAC4AHd3d506dUpBQUFO7WfOnFFQUJCl74jOAmUAAFyAYRiy2Wz52v/3v/8pICDAhIqKDjcCBQDAwu666y7ZbDbZbDa1bt1aJUr83//67Xa7EhMT9cADD5hYYeEj7AAAYGF5dzvfuXOnoqOjVapUKUefp6enIiIiOPUcAADc/ubPn6/u3bs73SrCVRB2AABwIdnZ2UpNTVVubq5Te8WKFU2qqPBxGAsAABdw6NAh9evXT5s3b3Zqz1u4bOWzsQg7AAC4gD59+qhEiRL68ssvFRoaesUzs6yKw1gAALgAX19fbd++XTVr1jS7lCLHdXYAAHABkZGROn36tNllmIKwAwCAC3j99df1wgsvaMOGDTpz5owyMjKcHlbGYSwAAFyAm9v/zW/8cb0OC5QBAIAlrF+/3uwSTMNhLAAAXECLFi3k5uam2bNn66WXXlLVqlXVokULJSUlyd3d3ezyChVhBwAAF/DZZ58pOjpa3t7e+vHHH5WVlSVJSk9P1+TJk02urnARdgAAcAETJ07UrFmzNHv2bHl4eDjamzVrph07dphYWeEj7AAA4AIOHjyo5s2b52sPCAhQWlpa0RdUhAg7AAC4gJCQEB0+fDhf+3fffafKlSubUFHRIewAAOACBg4cqKFDh2rr1q2y2Ww6efKkFixYoJEjR2rw4MFml1eoOPUcAAAX8NJLLyk3N1etW7fWhQsX1Lx5c3l5eWnkyJGKjY01u7xCxUUFAQBwIdnZ2Tp8+LAyMzMVGRmpUqVKmV1SoSPsAAAAS2PNDgAAsDTCDgAAsDTCDgAAsDTCDgAAsDTCDoAilZycrNjYWFWuXFleXl4KCwtTp06dFB8ff12vnzdvngIDAwu3SACWwnV2ABSZo0ePqlmzZgoMDNQbb7yhunXrKicnR6tXr1ZMTIwOHDhgdok3LCcnx+k+QwCKH2Z2ABSZZ599VjabTdu2bVO3bt1UvXp11a5dWyNGjNCWLVskSdOmTVPdunXl6+ursLAwPfvss8rMzJQkbdiwQX379lV6erpsNptsNpvGjRsnScrKytLIkSN1xx13yNfXV/fee682bNjg9P6zZ89WWFiYfHx89PDDD2vatGn5ZolmzpypKlWqyNPTUzVq1NC///1vp36bzaaZM2eqc+fO8vX11cSJE1W1alX985//dBq3c+dO2Wy2K16eH0ARMwCgCJw5c8aw2WzG5MmTrzlu+vTpxrp164zExEQjPj7eqFGjhjF48GDDMAwjKyvLeOuttwx/f3/j1KlTxqlTp4xz584ZhmEYAwYMMJo2bWps3LjROHz4sPHGG28YXl5exs8//2wYhmF89913hpubm/HGG28YBw8eNOLi4owyZcoYAQEBjvdesmSJ4eHhYcTFxRkHDx403nzzTcPd3d1Yt26dY4wkIygoyPjwww+NI0eOGMeOHTMmTZpkREZGOu3Hc889ZzRv3rwgPjoAt4iwA6BIbN261ZBkLFmy5IZet3jxYqNs2bKO53PnznUKKIZhGMeOHTPc3d2NEydOOLW3bt3aGD16tGEYhtG9e3ejY8eOTv09evRw2lbTpk2NgQMHOo159NFHjQ4dOjieSzKGDRvmNObEiROGu7u7sXXrVsMwDCM7O9soV66cMW/evBvaVwCFg8NYAIqEcZ0Xa1+7dq1at26tO+64Q35+furZs6fOnDmjCxcuXPU1e/bskd1uV/Xq1VWqVCnH45tvvtGRI0ckSQcPHtQ999zj9Lo/P9+/f7+aNWvm1NasWTPt37/fqa1x48ZOzytUqKCOHTvqww8/lCQtX75cWVlZevTRR69rnwEULhYoAygS1apVk81mu+Yi5KNHj+rBBx/U4MGDNWnSJJUpU0bfffed+vfvr+zsbPn4+FzxdZmZmXJ3d9f27dvl7u7u1FcY9/3x9fXN1zZgwAD17NlT06dP19y5c9W9e/er1gugaDGzA6BIlClTRtHR0YqLi9P58+fz9aelpWn79u3Kzc3Vm2++qSZNmqh69eo6efKk0zhPT0/Z7Xantrvuukt2u12pqamqWrWq0yMkJESSVKNGDX3//fdOr/vz81q1amnTpk1ObZs2bVJkZORf7l+HDh3k6+urmTNnatWqVerXr99fvgZA0SDsACgycXFxstvtuueee/TZZ5/p0KFD2r9/v9555x1FRUWpatWqysnJ0bvvvqtffvlF//73vzVr1iynbURERCgzM1Px8fE6ffq0Lly4oOrVq6tHjx7q1auXlixZosTERG3btk1TpkzRihUrJEmxsbFauXKlpk2bpkOHDulf//qXvvrqK9lsNse2R40apXnz5mnmzJk6dOiQpk2bpiVLlmjkyJF/uW/u7u7q06ePRo8erWrVqikqKqpgPzwAN8/sRUMAXMvJkyeNmJgYIzw83PD09DTuuOMOo3Pnzsb69esNwzCMadOmGaGhoYa3t7cRHR1tfPTRR4Yk47fffnNsY9CgQUbZsmUNScbYsWMNw7i8KHjMmDFGRESE4eHhYYSGhhoPP/ywsXv3bsfr3n//feOOO+4wvL29jS5duhgTJ040QkJCnOqbMWOGUblyZcPDw8OoXr268dFHHzn1SzI+//zzK+7bkSNHDEnG1KlTb/lzAlBwbIZxnasGAcBiBg4cqAMHDujbb78tkO19++23at26tY4fP67g4OAC2SaAW8cCZQAu45///Kfatm0rX19fffXVV5o/f75mzJhxy9vNysrSr7/+qnHjxunRRx8l6ADFDGt2ALiMbdu2qW3btqpbt65mzZqld955RwMGDLjl7X788ccKDw9XWlqapk6dWgCVAihIHMYCAACWxswOAACwNMIOAACwNMIOAACwNMIOAACwNMIOAACwNMIOAACwNMIOAACwNMIOAACwNMIOAACwtP8HqtwTAvbiTJAAAAAASUVORK5CYII=",
      "image/png": "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",
      "text/plain": [
       "<Figure size 640x480 with 1 Axes>"
      ]
     },
     "metadata": {},
     "output_type": "display_data"
    }
   ],
   "source": [
    "import matplotlib.pyplot as plt\n",
    "\n",
    "category_distribution.plot(kind='bar')\n",
    "plt.xlabel('Category')\n",
    "plt.ylabel('Count')\n",
    "plt.title('Category Value Counts')\n",
    "\n",
    "plt.show()"
   ]
  },
  {
   "cell_type": "code",
   "execution_count": 9,
   "metadata": {},
   "outputs": [
    {
     "name": "stderr",
     "output_type": "stream",
     "text": [
      "[nltk_data] Downloading package wordnet to\n",
      "[nltk_data]     /Users/minashimada/nltk_data...\n",
      "[nltk_data]   Package wordnet is already up-to-date!\n"
     ]
    }
   ],
   "source": [
    "import re\n",
    "import nltk\n",
    "# from gensim.utils import simple_preprocess\n",
    "# from gensim.parsing.preprocessing import STOPWORDS\n",
    "from nltk import download\n",
    "from nltk.stem import WordNetLemmatizer\n",
    "\n",
    "download('wordnet')\n",
    "\n",
    "lemmatizer = WordNetLemmatizer()\n",
    "\n",
    "def clean_text(text):\n",
    "    #remove HTML tags and lowercase the text\n",
    "    text = re.sub(r'<.*?>', '', text).lower()\n",
    "    #remove non-word characters\n",
    "    text = re.sub(r'[^\\w\\s]', '', text)\n",
    "    \n",
    "    #tokenize the text\n",
    "    # tokens = simple_preprocess(text)\n",
    "    #lemmatize the tokens and remove stop words\n",
    "    # lemmatized_text = [lemmatizer.lemmatize(token) for token in tokens if token not in STOPWORDS]\n",
    "    return text\n",
    "\n",
    "#create new column in dataframe with cleaned text\n",
    "df['processed_text'] = df['content'].apply(clean_text)"
   ]
  },
  {
   "cell_type": "code",
   "execution_count": 10,
   "metadata": {},
   "outputs": [
    {
     "data": {
      "text/html": [
       "<div>\n",
       "<style scoped>\n",
       "    .dataframe tbody tr th:only-of-type {\n",
       "        vertical-align: middle;\n",
       "    }\n",
       "\n",
       "    .dataframe tbody tr th {\n",
       "        vertical-align: top;\n",
       "    }\n",
       "\n",
       "    .dataframe thead th {\n",
       "        text-align: right;\n",
       "    }\n",
       "</style>\n",
       "<table border=\"1\" class=\"dataframe\">\n",
       "  <thead>\n",
       "    <tr style=\"text-align: right;\">\n",
       "      <th></th>\n",
       "      <th>category</th>\n",
       "      <th>filename</th>\n",
       "      <th>title</th>\n",
       "      <th>content</th>\n",
       "      <th>processed_text</th>\n",
       "    </tr>\n",
       "  </thead>\n",
       "  <tbody>\n",
       "    <tr>\n",
       "      <th>0</th>\n",
       "      <td>business</td>\n",
       "      <td>001.txt</td>\n",
       "      <td>Ad sales boost Time Warner profit</td>\n",
       "      <td>Quarterly profits at US media giant TimeWarne...</td>\n",
       "      <td>quarterly profits at us media giant timewarne...</td>\n",
       "    </tr>\n",
       "    <tr>\n",
       "      <th>1</th>\n",
       "      <td>business</td>\n",
       "      <td>002.txt</td>\n",
       "      <td>Dollar gains on Greenspan speech</td>\n",
       "      <td>The dollar has hit its highest level against ...</td>\n",
       "      <td>the dollar has hit its highest level against ...</td>\n",
       "    </tr>\n",
       "    <tr>\n",
       "      <th>2</th>\n",
       "      <td>business</td>\n",
       "      <td>003.txt</td>\n",
       "      <td>Yukos unit buyer faces loan claim</td>\n",
       "      <td>The owners of embattled Russian oil giant Yuk...</td>\n",
       "      <td>the owners of embattled russian oil giant yuk...</td>\n",
       "    </tr>\n",
       "    <tr>\n",
       "      <th>3</th>\n",
       "      <td>business</td>\n",
       "      <td>004.txt</td>\n",
       "      <td>High fuel prices hit BA's profits</td>\n",
       "      <td>British Airways has blamed high fuel prices f...</td>\n",
       "      <td>british airways has blamed high fuel prices f...</td>\n",
       "    </tr>\n",
       "    <tr>\n",
       "      <th>4</th>\n",
       "      <td>business</td>\n",
       "      <td>005.txt</td>\n",
       "      <td>Pernod takeover talk lifts Domecq</td>\n",
       "      <td>Shares in UK drinks and food firm Allied Dome...</td>\n",
       "      <td>shares in uk drinks and food firm allied dome...</td>\n",
       "    </tr>\n",
       "  </tbody>\n",
       "</table>\n",
       "</div>"
      ],
      "text/plain": [
       "   category filename                              title  \\\n",
       "0  business  001.txt  Ad sales boost Time Warner profit   \n",
       "1  business  002.txt   Dollar gains on Greenspan speech   \n",
       "2  business  003.txt  Yukos unit buyer faces loan claim   \n",
       "3  business  004.txt  High fuel prices hit BA's profits   \n",
       "4  business  005.txt  Pernod takeover talk lifts Domecq   \n",
       "\n",
       "                                             content  \\\n",
       "0   Quarterly profits at US media giant TimeWarne...   \n",
       "1   The dollar has hit its highest level against ...   \n",
       "2   The owners of embattled Russian oil giant Yuk...   \n",
       "3   British Airways has blamed high fuel prices f...   \n",
       "4   Shares in UK drinks and food firm Allied Dome...   \n",
       "\n",
       "                                      processed_text  \n",
       "0   quarterly profits at us media giant timewarne...  \n",
       "1   the dollar has hit its highest level against ...  \n",
       "2   the owners of embattled russian oil giant yuk...  \n",
       "3   british airways has blamed high fuel prices f...  \n",
       "4   shares in uk drinks and food firm allied dome...  "
      ]
     },
     "execution_count": 10,
     "metadata": {},
     "output_type": "execute_result"
    }
   ],
   "source": [
    "df.head()"
   ]
  },
  {
   "cell_type": "code",
   "execution_count": 12,
   "metadata": {},
   "outputs": [
    {
     "name": "stdout",
     "output_type": "stream",
     "text": [
      "Overall Word Count Distribution:\n",
      "count    2225.000000\n",
      "mean      190.300674\n",
      "std       110.557429\n",
      "min        40.000000\n",
      "25%       122.000000\n",
      "50%       167.000000\n",
      "75%       234.000000\n",
      "max      1947.000000\n",
      "Name: word_count, dtype: float64\n",
      "\n",
      "Word Count Distribution per Category:\n",
      "               count        mean         std   min    25%    50%    75%  \\\n",
      "category                                                                  \n",
      "business       510.0  169.337255   68.880495  62.0  121.0  156.5  200.0   \n",
      "entertainment  386.0  168.062176  121.580848  72.0  114.0  137.5  184.0   \n",
      "politics       417.0  223.237410  133.961241  40.0  159.0  222.0  263.0   \n",
      "sport          511.0  157.430528   91.351500  54.0   97.0  132.0  194.5   \n",
      "tech           401.0  246.004988  108.312788  85.0  174.0  222.0  307.0   \n",
      "\n",
      "                  max  \n",
      "category               \n",
      "business        457.0  \n",
      "entertainment  1594.0  \n",
      "politics       1947.0  \n",
      "sport           837.0  \n",
      "tech           1272.0  \n"
     ]
    },
    {
     "data": {
      "text/html": [
       "<div>\n",
       "<style scoped>\n",
       "    .dataframe tbody tr th:only-of-type {\n",
       "        vertical-align: middle;\n",
       "    }\n",
       "\n",
       "    .dataframe tbody tr th {\n",
       "        vertical-align: top;\n",
       "    }\n",
       "\n",
       "    .dataframe thead th {\n",
       "        text-align: right;\n",
       "    }\n",
       "</style>\n",
       "<table border=\"1\" class=\"dataframe\">\n",
       "  <thead>\n",
       "    <tr style=\"text-align: right;\">\n",
       "      <th></th>\n",
       "      <th>category</th>\n",
       "      <th>filename</th>\n",
       "      <th>title</th>\n",
       "      <th>content</th>\n",
       "      <th>processed_text</th>\n",
       "      <th>word_count</th>\n",
       "    </tr>\n",
       "  </thead>\n",
       "  <tbody>\n",
       "    <tr>\n",
       "      <th>0</th>\n",
       "      <td>business</td>\n",
       "      <td>001.txt</td>\n",
       "      <td>Ad sales boost Time Warner profit</td>\n",
       "      <td>Quarterly profits at US media giant TimeWarne...</td>\n",
       "      <td>[quarterly, profit, medium, giant, timewarner,...</td>\n",
       "      <td>217</td>\n",
       "    </tr>\n",
       "    <tr>\n",
       "      <th>1</th>\n",
       "      <td>business</td>\n",
       "      <td>002.txt</td>\n",
       "      <td>Dollar gains on Greenspan speech</td>\n",
       "      <td>The dollar has hit its highest level against ...</td>\n",
       "      <td>[dollar, hit, highest, level, euro, month, fed...</td>\n",
       "      <td>196</td>\n",
       "    </tr>\n",
       "    <tr>\n",
       "      <th>2</th>\n",
       "      <td>business</td>\n",
       "      <td>003.txt</td>\n",
       "      <td>Yukos unit buyer faces loan claim</td>\n",
       "      <td>The owners of embattled Russian oil giant Yuk...</td>\n",
       "      <td>[owner, embattled, russian, oil, giant, yukos,...</td>\n",
       "      <td>142</td>\n",
       "    </tr>\n",
       "    <tr>\n",
       "      <th>3</th>\n",
       "      <td>business</td>\n",
       "      <td>004.txt</td>\n",
       "      <td>High fuel prices hit BA's profits</td>\n",
       "      <td>British Airways has blamed high fuel prices f...</td>\n",
       "      <td>[british, airway, blamed, high, fuel, price, d...</td>\n",
       "      <td>211</td>\n",
       "    </tr>\n",
       "    <tr>\n",
       "      <th>4</th>\n",
       "      <td>business</td>\n",
       "      <td>005.txt</td>\n",
       "      <td>Pernod takeover talk lifts Domecq</td>\n",
       "      <td>Shares in UK drinks and food firm Allied Dome...</td>\n",
       "      <td>[share, uk, drink, food, firm, allied, domecq,...</td>\n",
       "      <td>147</td>\n",
       "    </tr>\n",
       "  </tbody>\n",
       "</table>\n",
       "</div>"
      ],
      "text/plain": [
       "   category filename                              title  \\\n",
       "0  business  001.txt  Ad sales boost Time Warner profit   \n",
       "1  business  002.txt   Dollar gains on Greenspan speech   \n",
       "2  business  003.txt  Yukos unit buyer faces loan claim   \n",
       "3  business  004.txt  High fuel prices hit BA's profits   \n",
       "4  business  005.txt  Pernod takeover talk lifts Domecq   \n",
       "\n",
       "                                             content  \\\n",
       "0   Quarterly profits at US media giant TimeWarne...   \n",
       "1   The dollar has hit its highest level against ...   \n",
       "2   The owners of embattled Russian oil giant Yuk...   \n",
       "3   British Airways has blamed high fuel prices f...   \n",
       "4   Shares in UK drinks and food firm Allied Dome...   \n",
       "\n",
       "                                      processed_text  word_count  \n",
       "0  [quarterly, profit, medium, giant, timewarner,...         217  \n",
       "1  [dollar, hit, highest, level, euro, month, fed...         196  \n",
       "2  [owner, embattled, russian, oil, giant, yukos,...         142  \n",
       "3  [british, airway, blamed, high, fuel, price, d...         211  \n",
       "4  [share, uk, drink, food, firm, allied, domecq,...         147  "
      ]
     },
     "execution_count": 12,
     "metadata": {},
     "output_type": "execute_result"
    }
   ],
   "source": [
    "# Calculate the length of each article\n",
    "df['word_count'] = df['processed_text'].apply(len)\n",
    "\n",
    "\n",
    "# Overall word count distribution\n",
    "overall_word_count_distribution = df['word_count'].describe()\n",
    "print(\"Overall Word Count Distribution:\")\n",
    "print(overall_word_count_distribution)\n",
    "\n",
    "\n",
    "# Word count distribution per category\n",
    "category_word_count_distribution = df.groupby('category')['word_count'].describe()\n",
    "print(\"\\nWord Count Distribution per Category:\")\n",
    "print(category_word_count_distribution)\n",
    "\n",
    "df.head()"
   ]
  },
  {
   "cell_type": "code",
   "execution_count": 10,
   "metadata": {},
   "outputs": [],
   "source": [
    "from sklearn.pipeline import Pipeline, FeatureUnion\n",
    "from sklearn.feature_extraction.text import CountVectorizer\n",
    "from sklearn.linear_model import LogisticRegression\n",
    "from sklearn.feature_extraction.text import TfidfVectorizer\n",
    "\n",
    "\n",
    "# Create pipeline\n",
    "pipeline = Pipeline([\n",
    "    ('features', FeatureUnion([\n",
    "        # ('count_vectorizer', CountVectorizer(ngram_range=(1, 2), stop_words='english', min_df=2, max_df=0.9)),\n",
    "        ('tfidf_vectorizer', TfidfVectorizer(ngram_range=(1, 3), stop_words='english', min_df=2, max_df=0.9))\n",
    "    ])),\n",
    "    ('classifier', LogisticRegression(max_iter=1000))\n",
    "])"
   ]
  },
  {
   "cell_type": "code",
   "execution_count": 11,
   "metadata": {},
   "outputs": [
    {
     "data": {
      "text/html": [
       "<style>#sk-container-id-1 {color: black;background-color: white;}#sk-container-id-1 pre{padding: 0;}#sk-container-id-1 div.sk-toggleable {background-color: white;}#sk-container-id-1 label.sk-toggleable__label {cursor: pointer;display: block;width: 100%;margin-bottom: 0;padding: 0.3em;box-sizing: border-box;text-align: center;}#sk-container-id-1 label.sk-toggleable__label-arrow:before {content: \"▸\";float: left;margin-right: 0.25em;color: #696969;}#sk-container-id-1 label.sk-toggleable__label-arrow:hover:before {color: black;}#sk-container-id-1 div.sk-estimator:hover label.sk-toggleable__label-arrow:before {color: black;}#sk-container-id-1 div.sk-toggleable__content {max-height: 0;max-width: 0;overflow: hidden;text-align: left;background-color: #f0f8ff;}#sk-container-id-1 div.sk-toggleable__content pre {margin: 0.2em;color: black;border-radius: 0.25em;background-color: #f0f8ff;}#sk-container-id-1 input.sk-toggleable__control:checked~div.sk-toggleable__content {max-height: 200px;max-width: 100%;overflow: auto;}#sk-container-id-1 input.sk-toggleable__control:checked~label.sk-toggleable__label-arrow:before {content: \"▾\";}#sk-container-id-1 div.sk-estimator input.sk-toggleable__control:checked~label.sk-toggleable__label {background-color: #d4ebff;}#sk-container-id-1 div.sk-label input.sk-toggleable__control:checked~label.sk-toggleable__label {background-color: #d4ebff;}#sk-container-id-1 input.sk-hidden--visually {border: 0;clip: rect(1px 1px 1px 1px);clip: rect(1px, 1px, 1px, 1px);height: 1px;margin: -1px;overflow: hidden;padding: 0;position: absolute;width: 1px;}#sk-container-id-1 div.sk-estimator {font-family: monospace;background-color: #f0f8ff;border: 1px dotted black;border-radius: 0.25em;box-sizing: border-box;margin-bottom: 0.5em;}#sk-container-id-1 div.sk-estimator:hover {background-color: #d4ebff;}#sk-container-id-1 div.sk-parallel-item::after {content: \"\";width: 100%;border-bottom: 1px solid gray;flex-grow: 1;}#sk-container-id-1 div.sk-label:hover label.sk-toggleable__label {background-color: #d4ebff;}#sk-container-id-1 div.sk-serial::before {content: \"\";position: absolute;border-left: 1px solid gray;box-sizing: border-box;top: 0;bottom: 0;left: 50%;z-index: 0;}#sk-container-id-1 div.sk-serial {display: flex;flex-direction: column;align-items: center;background-color: white;padding-right: 0.2em;padding-left: 0.2em;position: relative;}#sk-container-id-1 div.sk-item {position: relative;z-index: 1;}#sk-container-id-1 div.sk-parallel {display: flex;align-items: stretch;justify-content: center;background-color: white;position: relative;}#sk-container-id-1 div.sk-item::before, #sk-container-id-1 div.sk-parallel-item::before {content: \"\";position: absolute;border-left: 1px solid gray;box-sizing: border-box;top: 0;bottom: 0;left: 50%;z-index: -1;}#sk-container-id-1 div.sk-parallel-item {display: flex;flex-direction: column;z-index: 1;position: relative;background-color: white;}#sk-container-id-1 div.sk-parallel-item:first-child::after {align-self: flex-end;width: 50%;}#sk-container-id-1 div.sk-parallel-item:last-child::after {align-self: flex-start;width: 50%;}#sk-container-id-1 div.sk-parallel-item:only-child::after {width: 0;}#sk-container-id-1 div.sk-dashed-wrapped {border: 1px dashed gray;margin: 0 0.4em 0.5em 0.4em;box-sizing: border-box;padding-bottom: 0.4em;background-color: white;}#sk-container-id-1 div.sk-label label {font-family: monospace;font-weight: bold;display: inline-block;line-height: 1.2em;}#sk-container-id-1 div.sk-label-container {text-align: center;}#sk-container-id-1 div.sk-container {/* jupyter's `normalize.less` sets `[hidden] { display: none; }` but bootstrap.min.css set `[hidden] { display: none !important; }` so we also need the `!important` here to be able to override the default hidden behavior on the sphinx rendered scikit-learn.org. See: https://github.com/scikit-learn/scikit-learn/issues/21755 */display: inline-block !important;position: relative;}#sk-container-id-1 div.sk-text-repr-fallback {display: none;}</style><div id=\"sk-container-id-1\" class=\"sk-top-container\"><div class=\"sk-text-repr-fallback\"><pre>Pipeline(steps=[(&#x27;features&#x27;,\n",
       "                 FeatureUnion(transformer_list=[(&#x27;tfidf_vectorizer&#x27;,\n",
       "                                                 TfidfVectorizer(max_df=0.9,\n",
       "                                                                 min_df=2,\n",
       "                                                                 ngram_range=(1,\n",
       "                                                                              3),\n",
       "                                                                 stop_words=&#x27;english&#x27;))])),\n",
       "                (&#x27;classifier&#x27;, LogisticRegression(max_iter=1000))])</pre><b>In a Jupyter environment, please rerun this cell to show the HTML representation or trust the notebook. <br />On GitHub, the HTML representation is unable to render, please try loading this page with nbviewer.org.</b></div><div class=\"sk-container\" hidden><div class=\"sk-item sk-dashed-wrapped\"><div class=\"sk-label-container\"><div class=\"sk-label sk-toggleable\"><input class=\"sk-toggleable__control sk-hidden--visually\" id=\"sk-estimator-id-1\" type=\"checkbox\" ><label for=\"sk-estimator-id-1\" class=\"sk-toggleable__label sk-toggleable__label-arrow\">Pipeline</label><div class=\"sk-toggleable__content\"><pre>Pipeline(steps=[(&#x27;features&#x27;,\n",
       "                 FeatureUnion(transformer_list=[(&#x27;tfidf_vectorizer&#x27;,\n",
       "                                                 TfidfVectorizer(max_df=0.9,\n",
       "                                                                 min_df=2,\n",
       "                                                                 ngram_range=(1,\n",
       "                                                                              3),\n",
       "                                                                 stop_words=&#x27;english&#x27;))])),\n",
       "                (&#x27;classifier&#x27;, LogisticRegression(max_iter=1000))])</pre></div></div></div><div class=\"sk-serial\"><div class=\"sk-item sk-dashed-wrapped\"><div class=\"sk-label-container\"><div class=\"sk-label sk-toggleable\"><input class=\"sk-toggleable__control sk-hidden--visually\" id=\"sk-estimator-id-2\" type=\"checkbox\" ><label for=\"sk-estimator-id-2\" class=\"sk-toggleable__label sk-toggleable__label-arrow\">features: FeatureUnion</label><div class=\"sk-toggleable__content\"><pre>FeatureUnion(transformer_list=[(&#x27;tfidf_vectorizer&#x27;,\n",
       "                                TfidfVectorizer(max_df=0.9, min_df=2,\n",
       "                                                ngram_range=(1, 3),\n",
       "                                                stop_words=&#x27;english&#x27;))])</pre></div></div></div><div class=\"sk-parallel\"><div class=\"sk-parallel-item\"><div class=\"sk-item\"><div class=\"sk-label-container\"><div class=\"sk-label sk-toggleable\"><label>tfidf_vectorizer</label></div></div><div class=\"sk-serial\"><div class=\"sk-item\"><div class=\"sk-estimator sk-toggleable\"><input class=\"sk-toggleable__control sk-hidden--visually\" id=\"sk-estimator-id-3\" type=\"checkbox\" ><label for=\"sk-estimator-id-3\" class=\"sk-toggleable__label sk-toggleable__label-arrow\">TfidfVectorizer</label><div class=\"sk-toggleable__content\"><pre>TfidfVectorizer(max_df=0.9, min_df=2, ngram_range=(1, 3), stop_words=&#x27;english&#x27;)</pre></div></div></div></div></div></div></div></div><div class=\"sk-item\"><div class=\"sk-estimator sk-toggleable\"><input class=\"sk-toggleable__control sk-hidden--visually\" id=\"sk-estimator-id-4\" type=\"checkbox\" ><label for=\"sk-estimator-id-4\" class=\"sk-toggleable__label sk-toggleable__label-arrow\">LogisticRegression</label><div class=\"sk-toggleable__content\"><pre>LogisticRegression(max_iter=1000)</pre></div></div></div></div></div></div></div>"
      ],
      "text/plain": [
       "Pipeline(steps=[('features',\n",
       "                 FeatureUnion(transformer_list=[('tfidf_vectorizer',\n",
       "                                                 TfidfVectorizer(max_df=0.9,\n",
       "                                                                 min_df=2,\n",
       "                                                                 ngram_range=(1,\n",
       "                                                                              3),\n",
       "                                                                 stop_words='english'))])),\n",
       "                ('classifier', LogisticRegression(max_iter=1000))])"
      ]
     },
     "execution_count": 11,
     "metadata": {},
     "output_type": "execute_result"
    }
   ],
   "source": [
    "from sklearn.model_selection import train_test_split\n",
    "\n",
    "X = df['processed_text'].astype(str)\n",
    "y = df['category']\n",
    "\n",
    "# Split the data set\n",
    "X_train, X_test, y_train, y_test = train_test_split(X, y, test_size=0.3, random_state=1234)\n",
    "\n",
    "# Fit the model\n",
    "pipeline.fit(X_train, y_train)"
   ]
  },
  {
   "cell_type": "code",
   "execution_count": 12,
   "metadata": {},
   "outputs": [
    {
     "name": "stdout",
     "output_type": "stream",
     "text": [
      "Accuracy: 0.9671\n",
      "               precision    recall  f1-score   support\n",
      "\n",
      "     business       0.98      0.94      0.96       172\n",
      "entertainment       0.98      0.97      0.98       113\n",
      "     politics       0.92      0.97      0.94       115\n",
      "        sport       0.98      0.99      0.99       140\n",
      "         tech       0.98      0.97      0.97       128\n",
      "\n",
      "     accuracy                           0.97       668\n",
      "    macro avg       0.97      0.97      0.97       668\n",
      " weighted avg       0.97      0.97      0.97       668\n",
      "\n"
     ]
    }
   ],
   "source": [
    "from sklearn.metrics import accuracy_score, classification_report\n",
    "\n",
    "y_pred = pipeline.predict(X_test)\n",
    "\n",
    "accuracy = accuracy_score(y_test, y_pred)\n",
    "print(f'Accuracy: {accuracy:.4f}')\n",
    "\n",
    "print(classification_report(y_test, y_pred))g\n"
   ]
  },
  {
   "cell_type": "code",
   "execution_count": 13,
   "metadata": {},
   "outputs": [
    {
     "data": {
      "image/png": "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",
      "text/plain": [
       "<Figure size 800x600 with 2 Axes>"
      ]
     },
     "metadata": {},
     "output_type": "display_data"
    }
   ],
   "source": [
    "import seaborn as sns\n",
    "from sklearn.metrics import confusion_matrix\n",
    "\n",
    "#build the confusion matrix\n",
    "cm = confusion_matrix(y_test, y_pred)\n",
    "\n",
    "#plot the matrix\n",
    "plt.figure(figsize=(8,6))\n",
    "sns.heatmap(cm, annot=True, fmt='d', cmap='Blues', xticklabels=pipeline.classes_, yticklabels=pipeline.classes_)\n",
    "plt.xlabel('Predicted Label')\n",
    "plt.ylabel('True Label')\n",
    "plt.title('Confusion Matrix')\n",
    "plt.show()"
   ]
  }
 ],
 "metadata": {
  "kernelspec": {
   "display_name": "Python 3",
   "language": "python",
   "name": "python3"
  },
  "language_info": {
   "codemirror_mode": {
    "name": "ipython",
    "version": 3
   },
   "file_extension": ".py",
   "mimetype": "text/x-python",
   "name": "python",
   "nbconvert_exporter": "python",
   "pygments_lexer": "ipython3",
   "version": "3.10.14"
  }
 },
 "nbformat": 4,
 "nbformat_minor": 2
}
